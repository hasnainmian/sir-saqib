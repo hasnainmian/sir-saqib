{
 "cells": [
  {
   "cell_type": "markdown",
   "id": "a64f0e6e",
   "metadata": {},
   "source": []
  },
  {
   "cell_type": "code",
   "execution_count": null,
   "id": "0e9cd065",
   "metadata": {},
   "outputs": [],
   "source": [
    "name  = input('Enter file:')\n",
    "counts = dict()\n",
    "for line in handle:\n",
    "    words= line.split()\n",
    "    for word in words:\n",
    "        counts[word] = counts.get(word,0) + 1\n",
    "        bigcount = None\n",
    "        bigword = None\n",
    "        for word, count in counts.items():\n",
    "            if bigcount is none or count>bigcount:\n",
    "                bigword = word\n",
    "                bigcount = count\n",
    "                print(bigword, bigcount)"
   ]
  },
  {
   "cell_type": "code",
   "execution_count": 1,
   "id": "ac278f20",
   "metadata": {},
   "outputs": [
    {
     "name": "stdout",
     "output_type": "stream",
     "text": [
      "2\n",
      "4\n"
     ]
    }
   ],
   "source": [
    "x=2\n",
    "print(x)\n",
    "x=x+2\n",
    "print(x)"
   ]
  },
  {
   "cell_type": "code",
   "execution_count": 2,
   "id": "b6d7ccf4",
   "metadata": {},
   "outputs": [
    {
     "name": "stdout",
     "output_type": "stream",
     "text": [
      "Smaller\n"
     ]
    }
   ],
   "source": [
    "x=5\n",
    "if x< 10:\n",
    "    print('Smaller')\n",
    "    if x>20:\n",
    "        print ('bigger')\n",
    "        print('finis')"
   ]
  },
  {
   "cell_type": "code",
   "execution_count": 1,
   "id": "8787e176",
   "metadata": {},
   "outputs": [
    {
     "name": "stdout",
     "output_type": "stream",
     "text": [
      "5\n",
      "4\n",
      "3\n",
      "2\n",
      "1\n",
      "blastoff!\n"
     ]
    }
   ],
   "source": [
    "n=5\n",
    "while n>0:\n",
    "    print(n)\n",
    "    n=n-1\n",
    "print('blastoff!')\n",
    "    "
   ]
  },
  {
   "cell_type": "code",
   "execution_count": 4,
   "id": "6a4eef88",
   "metadata": {},
   "outputs": [
    {
     "name": "stdout",
     "output_type": "stream",
     "text": [
      "Equals 5\n"
     ]
    }
   ],
   "source": [
    "x=5\n",
    "if x== 5 :\n",
    "    print ('Equals 5')"
   ]
  },
  {
   "cell_type": "code",
   "execution_count": 5,
   "id": "c3c138c1",
   "metadata": {},
   "outputs": [
    {
     "name": "stdout",
     "output_type": "stream",
     "text": [
      "greater than  4\n"
     ]
    }
   ],
   "source": [
    "if x>4:\n",
    "    print('greater than  4')"
   ]
  },
  {
   "cell_type": "code",
   "execution_count": 14,
   "id": "231301ae",
   "metadata": {},
   "outputs": [
    {
     "name": "stdout",
     "output_type": "stream",
     "text": [
      "greater than or equals 5\n"
     ]
    }
   ],
   "source": [
    "if x >=5:\n",
    "    print('greater than or equals 5')\n",
    "   "
   ]
  },
  {
   "cell_type": "code",
   "execution_count": 15,
   "id": "4a067cb8",
   "metadata": {},
   "outputs": [
    {
     "name": "stdout",
     "output_type": "stream",
     "text": [
      "Less than 6\n"
     ]
    }
   ],
   "source": [
    "   if x < 6 : print('Less than 6')\n",
    "      "
   ]
  },
  {
   "cell_type": "code",
   "execution_count": 17,
   "id": "a8c84465",
   "metadata": {},
   "outputs": [
    {
     "name": "stdout",
     "output_type": "stream",
     "text": [
      "Not equal 6\n"
     ]
    }
   ],
   "source": [
    "\n",
    "            if x != 6  :print('Not equal 6')"
   ]
  },
  {
   "cell_type": "code",
   "execution_count": 18,
   "id": "df261d9b",
   "metadata": {},
   "outputs": [
    {
     "name": "stdout",
     "output_type": "stream",
     "text": [
      "before  5\n"
     ]
    }
   ],
   "source": [
    "x  = 5\n",
    "print('before  5')"
   ]
  },
  {
   "cell_type": "code",
   "execution_count": 19,
   "id": "53f257c0",
   "metadata": {},
   "outputs": [
    {
     "name": "stdout",
     "output_type": "stream",
     "text": [
      "before  5\n",
      "Is 5\n",
      "Is still 5\n",
      "third 5\n",
      "afterwards   5\n",
      "Before 6\n"
     ]
    }
   ],
   "source": [
    "x  = 5\n",
    "print('before  5')\n",
    "if x== 5:\n",
    "    print('Is 5')\n",
    "    print('Is still 5')\n",
    "    print ('third 5')\n",
    "    print ('afterwards   5')\n",
    "    print ('Before 6')\n",
    "    if x == 6 :\n",
    "        print ('Is 6')\n",
    "        print ('Is still 6')\n",
    "        print ('Third 6')\n",
    "        print ('Afterwards 6')"
   ]
  },
  {
   "cell_type": "code",
   "execution_count": 25,
   "id": "59c07da5",
   "metadata": {},
   "outputs": [
    {
     "ename": "SyntaxError",
     "evalue": "invalid syntax (116074098.py, line 3)",
     "output_type": "error",
     "traceback": [
      "\u001b[1;36m  Cell \u001b[1;32mIn[25], line 3\u001b[1;36m\u001b[0m\n\u001b[1;33m    eliff x < 10 :\u001b[0m\n\u001b[1;37m          ^\u001b[0m\n\u001b[1;31mSyntaxError\u001b[0m\u001b[1;31m:\u001b[0m invalid syntax\n"
     ]
    }
   ],
   "source": [
    "if x < 2:\n",
    "    print ('small')\n",
    "    elif x < 10 :\n",
    "        print ('medium')\n",
    "        else :\n",
    "            print ('large')\n",
    "            print ('All done')\n",
    "            "
   ]
  },
  {
   "cell_type": "code",
   "execution_count": 28,
   "id": "8bf96d18",
   "metadata": {},
   "outputs": [
    {
     "ename": "SyntaxError",
     "evalue": "invalid syntax (3861848407.py, line 10)",
     "output_type": "error",
     "traceback": [
      "\u001b[1;36m  Cell \u001b[1;32mIn[28], line 10\u001b[1;36m\u001b[0m\n\u001b[1;33m    except:\u001b[0m\n\u001b[1;37m    ^\u001b[0m\n\u001b[1;31mSyntaxError\u001b[0m\u001b[1;31m:\u001b[0m invalid syntax\n"
     ]
    }
   ],
   "source": [
    "astr = 'Hello Bob'\n",
    "try:\n",
    "    istr = int(astr)\n",
    "except:\n",
    "    istr= -1\n",
    "    print('First', istr)\n",
    "    astr ='123'\n",
    "    try:\n",
    "        istr = int(astr)\n",
    "        except:\n",
    "            istr = -1\n",
    "            print('second', istr)"
   ]
  },
  {
   "cell_type": "code",
   "execution_count": 29,
   "id": "fb392386",
   "metadata": {},
   "outputs": [
    {
     "ename": "SyntaxError",
     "evalue": "invalid syntax (943487213.py, line 6)",
     "output_type": "error",
     "traceback": [
      "\u001b[1;36m  Cell \u001b[1;32mIn[29], line 6\u001b[1;36m\u001b[0m\n\u001b[1;33m    except:\u001b[0m\n\u001b[1;37m    ^\u001b[0m\n\u001b[1;31mSyntaxError\u001b[0m\u001b[1;31m:\u001b[0m invalid syntax\n"
     ]
    }
   ],
   "source": [
    "astr = 'bob'\n",
    "try:\n",
    "    print ('Hello')\n",
    "    istr = int(astr)\n",
    "    print('there')\n",
    "    except:\n",
    "        istr = -1\n",
    "        print('done', istr)"
   ]
  },
  {
   "cell_type": "code",
   "execution_count": 3,
   "id": "418c003a",
   "metadata": {},
   "outputs": [],
   "source": [
    "def thing():\n",
    "    print('Hello')\n",
    "    print('Fun')\n",
    "    \n",
    "    thing()\n",
    "    print('zip')\n",
    "    thing()\n",
    "    "
   ]
  },
  {
   "cell_type": "code",
   "execution_count": 4,
   "id": "6fa3df7d",
   "metadata": {},
   "outputs": [
    {
     "name": "stdout",
     "output_type": "stream",
     "text": [
      "w\n",
      " \n"
     ]
    }
   ],
   "source": [
    "big = max ('Hello world')\n",
    "print(big)\n"
   ]
  },
  {
   "cell_type": "code",
   "execution_count": 5,
   "id": "b564f9e4",
   "metadata": {},
   "outputs": [
    {
     "name": "stdout",
     "output_type": "stream",
     "text": [
      " \n"
     ]
    }
   ],
   "source": [
    "tiny = min('Hello world')\n",
    "print(tiny)"
   ]
  },
  {
   "cell_type": "code",
   "execution_count": 6,
   "id": "fbca71ee",
   "metadata": {},
   "outputs": [
    {
     "name": "stdout",
     "output_type": "stream",
     "text": [
      "0.99\n"
     ]
    }
   ],
   "source": [
    "print(float(99)/100)"
   ]
  },
  {
   "cell_type": "code",
   "execution_count": 12,
   "id": "5a65daf1",
   "metadata": {},
   "outputs": [
    {
     "name": "stdout",
     "output_type": "stream",
     "text": [
      "42.0\n"
     ]
    }
   ],
   "source": [
    "i=42\n",
    "type(i)\n",
    "f = float(i)\n",
    "print(f)"
   ]
  },
  {
   "cell_type": "code",
   "execution_count": 13,
   "id": "46831621",
   "metadata": {},
   "outputs": [
    {
     "name": "stdout",
     "output_type": "stream",
     "text": [
      "-2.5\n"
     ]
    }
   ],
   "source": [
    "type(f)\n",
    "print(1+2*float(3)/4-5)"
   ]
  },
  {
   "cell_type": "code",
   "execution_count": 2,
   "id": "6b38d29d",
   "metadata": {},
   "outputs": [
    {
     "ename": "IndentationError",
     "evalue": "unexpected indent (2363827596.py, line 3)",
     "output_type": "error",
     "traceback": [
      "\u001b[1;36m  Cell \u001b[1;32mIn[2], line 3\u001b[1;36m\u001b[0m\n\u001b[1;33m    print(sval+1)\u001b[0m\n\u001b[1;37m    ^\u001b[0m\n\u001b[1;31mIndentationError\u001b[0m\u001b[1;31m:\u001b[0m unexpected indent\n"
     ]
    }
   ],
   "source": [
    "sval = '123'\n",
    "type(sval)\n",
    "print(sval+1)"
   ]
  },
  {
   "cell_type": "code",
   "execution_count": 22,
   "id": "a6c4ff29",
   "metadata": {},
   "outputs": [
    {
     "name": "stdout",
     "output_type": "stream",
     "text": [
      "Hello\n"
     ]
    }
   ],
   "source": [
    "x=5\n",
    "print('Hello')\n",
    "\n",
    "def print_lyrics():\n",
    "    print(\"I'm a lumberjack, and I'm okay.\")\n",
    "    print('I sleep all night and I work all day.')\n",
    "    \n",
    "    print('yo')\n",
    "    print_lyrics()\n",
    "    x =  x+2\n",
    "    print(x)"
   ]
  },
  {
   "cell_type": "code",
   "execution_count": 25,
   "id": "c653f305",
   "metadata": {},
   "outputs": [
    {
     "name": "stdout",
     "output_type": "stream",
     "text": [
      "hello Glenn\n",
      "hello Sally\n"
     ]
    }
   ],
   "source": [
    "def greet():\n",
    "    return \"hello\"\n",
    "print(greet(),\"Glenn\")\n",
    "print(greet(),\"Sally\")"
   ]
  },
  {
   "cell_type": "code",
   "execution_count": 26,
   "id": "2a32e1e2",
   "metadata": {},
   "outputs": [
    {
     "name": "stdout",
     "output_type": "stream",
     "text": [
      "8\n"
     ]
    }
   ],
   "source": [
    "def addtwo(a,b):\n",
    "    added =a+b\n",
    "    return added\n",
    "\n",
    "x = addtwo(3,5)\n",
    "print(x)\n"
   ]
  },
  {
   "cell_type": "code",
   "execution_count": 5,
   "id": "5dd33f9e",
   "metadata": {},
   "outputs": [
    {
     "name": "stdout",
     "output_type": "stream",
     "text": [
      "5\n",
      "4\n",
      "3\n",
      "2\n",
      "1\n",
      "blastoff!\n",
      "0\n"
     ]
    }
   ],
   "source": [
    "n=5\n",
    "while n > 0 :\n",
    "    print(n)\n",
    "    n = n-1\n",
    "print('blastoff!')\n",
    "print(n)"
   ]
  },
  {
   "cell_type": "code",
   "execution_count": 4,
   "id": "4a870852",
   "metadata": {},
   "outputs": [],
   "source": [
    "n=0 \n",
    "while n > 0 :\n",
    "    print('Lather')\n",
    "    print('rinse')\n",
    "    print('Dry off!')"
   ]
  },
  {
   "cell_type": "code",
   "execution_count": 31,
   "id": "aa50a314",
   "metadata": {},
   "outputs": [
    {
     "name": "stdout",
     "output_type": "stream",
     "text": [
      ">hello thre\n",
      ">finished\n",
      ">done\n"
     ]
    }
   ],
   "source": [
    "while True:\n",
    "    line = input('>')\n",
    "    if line == 'done' :\n",
    "        break\n",
    "        print (line)\n",
    "        print('done!')"
   ]
  },
  {
   "cell_type": "code",
   "execution_count": 38,
   "id": "ffc51837",
   "metadata": {},
   "outputs": [
    {
     "name": "stdout",
     "output_type": "stream",
     "text": [
      "5\n",
      "4\n",
      "3\n",
      "2\n",
      "1\n",
      "Blastoff!\n"
     ]
    }
   ],
   "source": [
    "for i in [5,4,3,2,1] :\n",
    "    print(i)\n",
    "print('Blastoff!')    "
   ]
  },
  {
   "cell_type": "code",
   "execution_count": 37,
   "id": "dfdf0f00",
   "metadata": {},
   "outputs": [
    {
     "name": "stdout",
     "output_type": "stream",
     "text": [
      "Before\n",
      "9\n",
      "41\n",
      "12\n",
      "3\n",
      "74\n",
      "15\n",
      "After\n"
     ]
    }
   ],
   "source": [
    "print('Before')\n",
    "for thing  in [9,41,12,3,74,15] :\n",
    "    print(thing)\n",
    "print('After')    "
   ]
  },
  {
   "cell_type": "code",
   "execution_count": 39,
   "id": "bd402849",
   "metadata": {},
   "outputs": [
    {
     "name": "stdout",
     "output_type": "stream",
     "text": [
      "Happy New Year: joseph\n",
      "Happy New Year: glenn\n",
      "Happy New Year: sally\n",
      "Done!\n"
     ]
    }
   ],
   "source": [
    "friends  = ['joseph','glenn','sally' ]\n",
    "for friend in friends :\n",
    "    print('Happy New Year:',friend)\n",
    "print('Done!')    "
   ]
  },
  {
   "cell_type": "code",
   "execution_count": 41,
   "id": "b6082c26",
   "metadata": {},
   "outputs": [
    {
     "name": "stdout",
     "output_type": "stream",
     "text": [
      "Before -1\n",
      "9 9\n",
      "41 41\n",
      "41 12\n",
      "41 3\n",
      "74 74\n",
      "74 15\n",
      "After 74\n"
     ]
    }
   ],
   "source": [
    "largest_so_far =  -1\n",
    "print('Before', largest_so_far)\n",
    "for the_num in [9,41,12,3,74,15]:\n",
    "    if the_num > largest_so_far :\n",
    "        largest_so_far = the_num\n",
    "    print(largest_so_far, the_num)\n",
    "    \n",
    "print('After', largest_so_far)\n",
    "\n",
    "        \n",
    "        "
   ]
  },
  {
   "cell_type": "code",
   "execution_count": 43,
   "id": "d6bceb63",
   "metadata": {},
   "outputs": [
    {
     "name": "stdout",
     "output_type": "stream",
     "text": [
      "Before 0\n",
      "1 9\n",
      "2 41\n",
      "3 12\n",
      "4 3\n",
      "5 74\n",
      "6 15\n",
      "After 6\n"
     ]
    }
   ],
   "source": [
    "zork = 0\n",
    "print('Before', zork)\n",
    "for thing in [9,41,12,3,74,15]  :\n",
    "    zork  = zork+1\n",
    "    print(zork,thing)\n",
    "print('After',zork)    "
   ]
  },
  {
   "cell_type": "code",
   "execution_count": 44,
   "id": "92c6c5e1",
   "metadata": {},
   "outputs": [
    {
     "name": "stdout",
     "output_type": "stream",
     "text": [
      "Before 0\n",
      "9 9\n",
      "50 41\n",
      "62 12\n",
      "65 3\n",
      "139 74\n",
      "154 15\n",
      "After 154\n"
     ]
    }
   ],
   "source": [
    "zork = 0\n",
    "print('Before', zork)\n",
    "for thing in [9,41,12,3,74,15]  :\n",
    "    zork  = zork+thing\n",
    "    print(zork,thing)\n",
    "print('After',zork)    "
   ]
  },
  {
   "cell_type": "code",
   "execution_count": 45,
   "id": "1ddad26b",
   "metadata": {},
   "outputs": [
    {
     "name": "stdout",
     "output_type": "stream",
     "text": [
      "Before 0 0\n",
      "1 9 9\n",
      "2 50 41\n",
      "3 62 12\n",
      "4 65 3\n",
      "5 139 74\n",
      "6 154 15\n",
      "After 6 154 25.666666666666668\n"
     ]
    }
   ],
   "source": [
    "count = 0 \n",
    "sum = 0\n",
    "print('Before',count, sum)\n",
    "for value in [9,41,12,3,74,15] :\n",
    "    count  = count + 1\n",
    "    sum =sum  + value\n",
    "    print(count, sum, value)\n",
    "print('After',count, sum, sum/count)    "
   ]
  },
  {
   "cell_type": "code",
   "execution_count": 46,
   "id": "8794460d",
   "metadata": {},
   "outputs": [
    {
     "name": "stdout",
     "output_type": "stream",
     "text": [
      "Before\n",
      "Large number 41\n",
      "Large number 74\n",
      "After\n"
     ]
    }
   ],
   "source": [
    "print('Before')\n",
    "for value in [9,41,12,3,74,15] :\n",
    "    if value > 20:\n",
    "        print('Large number', value)\n",
    "print('After')        \n"
   ]
  },
  {
   "cell_type": "code",
   "execution_count": 49,
   "id": "e83dcfd4",
   "metadata": {},
   "outputs": [
    {
     "name": "stdout",
     "output_type": "stream",
     "text": [
      "Before False\n",
      "False 9\n",
      "False 41\n",
      "False 12\n",
      "True 3\n",
      "True 74\n",
      "True 15\n",
      "After True\n"
     ]
    }
   ],
   "source": [
    "found = False\n",
    "print('Before', found)\n",
    "for value in [9,41,12,3,74,15] :\n",
    "    if value ==  3:\n",
    "        found=True\n",
    "    print(found, value)\n",
    "print('After', found)    "
   ]
  },
  {
   "cell_type": "code",
   "execution_count": 51,
   "id": "2d76b44b",
   "metadata": {},
   "outputs": [
    {
     "name": "stdout",
     "output_type": "stream",
     "text": [
      "Before -1\n",
      "-1 9\n",
      "-1 41\n",
      "-1 12\n",
      "-1 3\n",
      "-1 74\n",
      "-1 15\n",
      "After -1\n"
     ]
    }
   ],
   "source": [
    "smallest_so_far = -1\n",
    "print('Before', smallest_so_far)\n",
    "for the_num  in [9,41,12,3,74,15] :\n",
    "    if the_num <smallest_so_far :\n",
    "        smallest_so_far =the_num\n",
    "    print(smallest_so_far, the_num)\n",
    "print('After',  smallest_so_far)    "
   ]
  },
  {
   "cell_type": "code",
   "execution_count": 55,
   "id": "89c88a3e",
   "metadata": {},
   "outputs": [
    {
     "name": "stdout",
     "output_type": "stream",
     "text": [
      "Before\n",
      "9 9\n",
      "9 41\n",
      "9 12\n",
      "3 3\n",
      "3 74\n",
      "3 15\n",
      "After 3\n"
     ]
    }
   ],
   "source": [
    "smallest = None\n",
    "print('Before')\n",
    "for value in [9, 41, 12, 3, 74, 15] :\n",
    "    if smallest is None : \n",
    "        smallest = value\n",
    "    elif value < smallest : \n",
    "        smallest = value\n",
    "    print(smallest, value)\n",
    "print('After', smallest)\n"
   ]
  },
  {
   "cell_type": "code",
   "execution_count": 14,
   "id": "5b3bfe35",
   "metadata": {},
   "outputs": [
    {
     "name": "stdout",
     "output_type": "stream",
     "text": [
      "Enter:100\n",
      "100\n"
     ]
    },
    {
     "ename": "NameError",
     "evalue": "name 'chuck' is not defined",
     "output_type": "error",
     "traceback": [
      "\u001b[1;31m---------------------------------------------------------------------------\u001b[0m",
      "\u001b[1;31mNameError\u001b[0m                                 Traceback (most recent call last)",
      "Cell \u001b[1;32mIn[14], line 4\u001b[0m\n\u001b[0;32m      2\u001b[0m Enter: \u001b[38;5;124m'\u001b[39m\u001b[38;5;124mchuck\u001b[39m\u001b[38;5;124m'\u001b[39m\n\u001b[0;32m      3\u001b[0m \u001b[38;5;28mprint\u001b[39m(name)\n\u001b[1;32m----> 4\u001b[0m chuck\n\u001b[0;32m      5\u001b[0m apple \u001b[38;5;241m=\u001b[39m \u001b[38;5;28minput\u001b[39m(\u001b[38;5;124m'\u001b[39m\u001b[38;5;124mEnter:\u001b[39m\u001b[38;5;124m'\u001b[39m)\n\u001b[0;32m      6\u001b[0m Enter:\u001b[38;5;241m100\u001b[39m\n",
      "\u001b[1;31mNameError\u001b[0m: name 'chuck' is not defined"
     ]
    }
   ],
   "source": [
    "name = input('Enter:')\n",
    "Enter: chuck\n",
    "print(name)\n",
    "chuck\n",
    "apple = input('Enter:')\n",
    "Enter:100\n",
    "x = apple - 10\n",
    "x=int(apple) - 10\n",
    "print(x)\n",
    "\n",
    "    "
   ]
  },
  {
   "cell_type": "code",
   "execution_count": 16,
   "id": "cf9f29d5",
   "metadata": {},
   "outputs": [
    {
     "name": "stdout",
     "output_type": "stream",
     "text": [
      "a\n",
      "n\n"
     ]
    }
   ],
   "source": [
    "fruit  ='banana'\n",
    "letter = fruit[1]\n",
    "print(letter)\n",
    "x=3\n",
    "w= fruit[x-1]\n",
    "print(w)"
   ]
  },
  {
   "cell_type": "code",
   "execution_count": 17,
   "id": "27e2d93d",
   "metadata": {},
   "outputs": [
    {
     "name": "stdout",
     "output_type": "stream",
     "text": [
      "6\n"
     ]
    }
   ],
   "source": [
    "fruit  ='banana'\n",
    "print(len(fruit))"
   ]
  },
  {
   "cell_type": "code",
   "execution_count": 19,
   "id": "34c44ea0",
   "metadata": {},
   "outputs": [
    {
     "name": "stdout",
     "output_type": "stream",
     "text": [
      "b\n",
      "b\n",
      "a\n",
      "n\n",
      "a\n",
      "n\n",
      "a\n",
      "a\n",
      "b\n",
      "a\n",
      "n\n",
      "a\n",
      "n\n",
      "a\n",
      "n\n",
      "b\n",
      "a\n",
      "n\n",
      "a\n",
      "n\n",
      "a\n",
      "a\n",
      "b\n",
      "a\n",
      "n\n",
      "a\n",
      "n\n",
      "a\n",
      "n\n",
      "b\n",
      "a\n",
      "n\n",
      "a\n",
      "n\n",
      "a\n",
      "a\n",
      "b\n",
      "a\n",
      "n\n",
      "a\n",
      "n\n",
      "a\n"
     ]
    }
   ],
   "source": [
    "fruit  ='banana'\n",
    "for letter in fruit :\n",
    "    print(letter)\n",
    "    index = 0 \n",
    "    while index < len (fruit):\n",
    "        letter = fruit[index]\n",
    "        print(letter)\n",
    "        index = index + 1\n",
    "    "
   ]
  },
  {
   "cell_type": "code",
   "execution_count": 20,
   "id": "fa97b8b8",
   "metadata": {},
   "outputs": [
    {
     "name": "stdout",
     "output_type": "stream",
     "text": [
      "6\n"
     ]
    }
   ],
   "source": [
    "word = 'banana'\n",
    "count = 0\n",
    "for lettet in word :\n",
    "    if letter == 'a':\n",
    "        count = count + 1\n",
    "print(count)"
   ]
  },
  {
   "cell_type": "code",
   "execution_count": 21,
   "id": "65da35dd",
   "metadata": {},
   "outputs": [
    {
     "name": "stdout",
     "output_type": "stream",
     "text": [
      "Mont\n",
      "P\n",
      "Python\n"
     ]
    }
   ],
   "source": [
    "s= 'Monty Python'\n",
    "print(s[0:4])\n",
    "print(s[6:7])\n",
    "print(s[6:20])"
   ]
  },
  {
   "cell_type": "code",
   "execution_count": 22,
   "id": "421ca749",
   "metadata": {},
   "outputs": [
    {
     "name": "stdout",
     "output_type": "stream",
     "text": [
      "Mo\n",
      "thon\n",
      "Monty Python\n"
     ]
    }
   ],
   "source": [
    "s= 'Monty Python'\n",
    "print(s[:2])\n",
    "print(s[8:])\n",
    "print(s[:])"
   ]
  },
  {
   "cell_type": "code",
   "execution_count": 25,
   "id": "bfeed4a7",
   "metadata": {},
   "outputs": [
    {
     "name": "stdout",
     "output_type": "stream",
     "text": [
      "HelloThere\n",
      "Hello  There\n"
     ]
    }
   ],
   "source": [
    "a = 'Hello'\n",
    "b = a + 'There'\n",
    "print(b)\n",
    "\n",
    "c = a+ '  '+ 'There'\n",
    "print(c)"
   ]
  },
  {
   "cell_type": "code",
   "execution_count": 28,
   "id": "cc4171d3",
   "metadata": {},
   "outputs": [
    {
     "name": "stdout",
     "output_type": "stream",
     "text": [
      "hello  bob\n",
      "Hello  Bob\n",
      "hi there\n"
     ]
    }
   ],
   "source": [
    "greet = 'Hello  Bob'\n",
    "zap = greet.lower()\n",
    "print(zap)\n",
    "print(greet)\n",
    "print('Hi There'.lower())"
   ]
  },
  {
   "cell_type": "code",
   "execution_count": 29,
   "id": "45e5a157",
   "metadata": {},
   "outputs": [
    {
     "name": "stdout",
     "output_type": "stream",
     "text": [
      "2\n"
     ]
    }
   ],
   "source": [
    "fruit = 'banana'\n",
    "pos = fruit.find('na')\n",
    "print(pos)"
   ]
  },
  {
   "cell_type": "code",
   "execution_count": 30,
   "id": "1fcb39ea",
   "metadata": {},
   "outputs": [
    {
     "name": "stdout",
     "output_type": "stream",
     "text": [
      "HELLO  BOB\n"
     ]
    }
   ],
   "source": [
    "greet = 'Hello  Bob'\n",
    "nnn = greet. upper()\n",
    "print(nnn)"
   ]
  },
  {
   "cell_type": "code",
   "execution_count": 32,
   "id": "6a7c3f7f",
   "metadata": {},
   "outputs": [
    {
     "name": "stdout",
     "output_type": "stream",
     "text": [
      "Hello  jane\n"
     ]
    }
   ],
   "source": [
    "greet = 'Hello  Bob'\n",
    "nstr =  greet.replace('Bob','jane')\n",
    "print(nstr)"
   ]
  },
  {
   "cell_type": "code",
   "execution_count": 34,
   "id": "a0383633",
   "metadata": {},
   "outputs": [
    {
     "name": "stdout",
     "output_type": "stream",
     "text": [
      "Hellx  Bxb\n"
     ]
    }
   ],
   "source": [
    "greet = 'Hello  Bob'\n",
    "nstr =  greet.replace('o','x')\n",
    "print(nstr)"
   ]
  },
  {
   "cell_type": "code",
   "execution_count": 38,
   "id": "cb71b10f",
   "metadata": {},
   "outputs": [
    {
     "data": {
      "text/plain": [
       "'Hello  Bob'"
      ]
     },
     "execution_count": 38,
     "metadata": {},
     "output_type": "execute_result"
    }
   ],
   "source": [
    "greet = '  Hello  Bob  '\n",
    "greet.lstrip()\n",
    "greet.rstrip()\n",
    "\n",
    "greet.rstrip()\n",
    "greet.strip()\n"
   ]
  },
  {
   "cell_type": "code",
   "execution_count": 43,
   "id": "71090edd",
   "metadata": {},
   "outputs": [
    {
     "data": {
      "text/plain": [
       "True"
      ]
     },
     "execution_count": 43,
     "metadata": {},
     "output_type": "execute_result"
    }
   ],
   "source": [
    "line = 'Please have a nice day'\n",
    "line.startswith('Please')\n"
   ]
  },
  {
   "cell_type": "code",
   "execution_count": 45,
   "id": "441796f2",
   "metadata": {},
   "outputs": [
    {
     "data": {
      "text/plain": [
       "False"
      ]
     },
     "execution_count": 45,
     "metadata": {},
     "output_type": "execute_result"
    }
   ],
   "source": [
    "line = 'Please have a nice day'\n",
    "line.startswith('p')"
   ]
  },
  {
   "cell_type": "code",
   "execution_count": null,
   "id": "ad4c8710",
   "metadata": {},
   "outputs": [],
   "source": []
  }
 ],
 "metadata": {
  "kernelspec": {
   "display_name": "Python 3 (ipykernel)",
   "language": "python",
   "name": "python3"
  },
  "language_info": {
   "codemirror_mode": {
    "name": "ipython",
    "version": 3
   },
   "file_extension": ".py",
   "mimetype": "text/x-python",
   "name": "python",
   "nbconvert_exporter": "python",
   "pygments_lexer": "ipython3",
   "version": "3.11.4"
  }
 },
 "nbformat": 4,
 "nbformat_minor": 5
}
